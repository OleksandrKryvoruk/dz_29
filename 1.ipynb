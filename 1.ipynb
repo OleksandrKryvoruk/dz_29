{
 "cells": [
  {
   "cell_type": "markdown",
   "id": "125f2e43",
   "metadata": {},
   "source": [
    "**Умова:**\n",
    "\n",
    "Протягом 50 років вимірювався рівень води навесні під час повені відносно умовного нуля. Результати вимірювання наведено\n",
    "у вигляді інтервального статистичного розподілу:\n",
    "\n",
    "| $x_i$ | 0-24   | 24-48  | 48-72  | 72-96  | 96-120 | 120-144| 144-168| 168-192|192-216| \n",
    "| :---  | :----: | :----: | :----: | :----: | :----: | :----: | :----: | :----: | ---:  |\n",
    "| $n_i$ | 1      | 2      | 4      | 6      | 12     | 16     | 6      | 2      | 1     |   \n",
    "\n",
    "За заданими статистичними розподілами вибірки висунути $H_0$ про закон розподілу ознаки генеральної сукупності і при рівні\n",
    "значущості $\\alpha = 0,01$ перевірити її правильність."
   ]
  },
  {
   "cell_type": "markdown",
   "id": "3f4637ce",
   "metadata": {},
   "source": [
    "**Розв'язок:**\n",
    "\n",
    "**1. Для заданого статистичного розподілу, побудуємо гістограму частот.**"
   ]
  },
  {
   "cell_type": "code",
   "execution_count": 216,
   "id": "7af66e81",
   "metadata": {},
   "outputs": [
    {
     "data": {
      "image/png": "[encoded data removed]",
      "text/plain": [
       "<Figure size 640x480 with 1 Axes>"
      ]
     },
     "metadata": {},
     "output_type": "display_data"
    }
   ],
   "source": [
    "import pandas as pd\n",
    "import matplotlib.pyplot as plt\n",
    "import scipy as sp\n",
    "\n",
    "\n",
    "x = [24, 48, 72, 96, 120, 144, 168, 192, 216]\n",
    "n = [1, 2, 4, 6, 12, 16, 6, 2, 1]\n",
    "\n",
    "series = pd.Series([x[i] for i in range(len(x)) for _ in range(n[i])])\n",
    "\n",
    "series_gist.plot(kind=\"hist\", fontsize=10, color='#607c8e', width = 20, bins=len(x))\n",
    "plt.title('Гістограма частот')\n",
    "plt.xlabel('Значення величин вибірки')\n",
    "plt.ylabel('Частота випадання величини')\n",
    "plt.grid(axis='y', alpha=0.5)\n",
    "plt.grid(axis='x', alpha=0.5)\n",
    "plt.show()\n"
   ]
  },
  {
   "cell_type": "markdown",
   "id": "0286b2ca",
   "metadata": {},
   "source": [
    "За формою гістограми частот можемо припустити ймовірніть гіпотези $H_0$, що дані результати досліджень мають нормальний закон розподілу. Виконаємо розрахунки для перевірки правильності припущення."
   ]
  },
  {
   "cell_type": "markdown",
   "id": "54dc8c5a",
   "metadata": {},
   "source": [
    "**1. Виконаємо перевірку правильності нульової гіпотези за критерієм Шапіро програмними засобами.**"
   ]
  },
  {
   "cell_type": "code",
   "execution_count": 217,
   "id": "c411aac2",
   "metadata": {},
   "outputs": [
    {
     "name": "stdout",
     "output_type": "stream",
     "text": [
      "Statistics=0.950, p-value=0.034\n",
      "За критерієм Шапіро, нульову гіпотезу для даної вибірки підтверджено\n"
     ]
    }
   ],
   "source": [
    "stat, p = sp.stats.shapiro(series)\n",
    "print(\"Statistics=%.3f, p-value=%.3f\"%(stat, p))\n",
    "if p > alpha:\n",
    "    print(\"За критерієм Шапіро, нульову гіпотезу для даної вибірки підтверджено\")\n",
    "else:\n",
    "    print(\"За критерієм Шапіро, нульову гіпотезу не підтверджено\")"
   ]
  },
  {
   "cell_type": "markdown",
   "id": "a5570d32",
   "metadata": {},
   "source": [
    "**2. Виконаємо перевірку правильності нульової гіпотези за критерієм узгодженості Пірсона програмними засобами.**"
   ]
  },
  {
   "cell_type": "code",
   "execution_count": 218,
   "id": "bc7847b7",
   "metadata": {},
   "outputs": [
    {
     "name": "stdout",
     "output_type": "stream",
     "text": [
      "Statistics=2.365, p-value=0.307\n",
      "За критерієм узгодженності Пірсона, нульову гіпотезу для даної вибірки підтверджено\n"
     ]
    }
   ],
   "source": [
    "stat, p = sp.stats.normaltest(series)\n",
    "print(\"Statistics=%.3f, p-value=%.3f\"%(stat, p))\n",
    "if p > alpha:\n",
    "    print(\"За критерієм узгодженності Пірсона, нульову гіпотезу для даної вибірки підтверджено\")\n",
    "else:\n",
    "    print(\"За критерієм узгодженності Пірсона, нульову гіпотезу не підтверджено\")"
   ]
  },
  {
   "cell_type": "markdown",
   "id": "36e8688f",
   "metadata": {},
   "source": [
    "**3. Виконаємо перевірку правильності нульової гіпотези за критерієм узгодженнсті Пірсона методом розрахунків.**"
   ]
  },
  {
   "cell_type": "markdown",
   "id": "37d6d3db",
   "metadata": {},
   "source": [
    "3.1. Знайдемо вибіркове середнє і середнє квадратичне відхилення вибірки."
   ]
  },
  {
   "cell_type": "code",
   "execution_count": 219,
   "id": "9072afec",
   "metadata": {},
   "outputs": [],
   "source": [
    "alpha = 0.01\n",
    "series_average = pd.Series([series[i]/2 if i == 0 else series[i]-series[0]/2 for i in range(len(series))])"
   ]
  },
  {
   "cell_type": "code",
   "execution_count": 239,
   "id": "dbbc1123",
   "metadata": {},
   "outputs": [
    {
     "name": "stdout",
     "output_type": "stream",
     "text": [
      "mean = 114.72\n",
      "std = 38.5\n"
     ]
    }
   ],
   "source": [
    "mean, std = round(series_average.mean(), 2), round(series_average.std(), 2)\n",
    "print(f\"mean = {mean}\\nstd = {std}\")"
   ]
  },
  {
   "cell_type": "markdown",
   "id": "de0d20d1",
   "metadata": {},
   "source": [
    "3.2. Преведемо таблицю обчислення теоретичних частот."
   ]
  },
  {
   "cell_type": "code",
   "execution_count": 237,
   "id": "c3fa081c",
   "metadata": {},
   "outputs": [
    {
     "data": {
      "text/html": [
       "<div>\n",
       "<style scoped>\n",
       "    .dataframe tbody tr th:only-of-type {\n",
       "        vertical-align: middle;\n",
       "    }\n",
       "\n",
       "    .dataframe tbody tr th {\n",
       "        vertical-align: top;\n",
       "    }\n",
       "\n",
       "    .dataframe thead th {\n",
       "        text-align: right;\n",
       "    }\n",
       "</style>\n",
       "<table border=\"1\" class=\"dataframe\">\n",
       "  <thead>\n",
       "    <tr style=\"text-align: right;\">\n",
       "      <th></th>\n",
       "      <th>x</th>\n",
       "      <th>x_1</th>\n",
       "      <th>z_i</th>\n",
       "      <th>z_i_1</th>\n",
       "      <th>F_zi</th>\n",
       "      <th>F_zi_1</th>\n",
       "      <th>P_i</th>\n",
       "      <th>N_i</th>\n",
       "      <th>N</th>\n",
       "      <th>N_K_e</th>\n",
       "    </tr>\n",
       "  </thead>\n",
       "  <tbody>\n",
       "    <tr>\n",
       "      <th>0</th>\n",
       "      <td>24</td>\n",
       "      <td>0</td>\n",
       "      <td>-2.36</td>\n",
       "      <td>NaN</td>\n",
       "      <td>-0.4909</td>\n",
       "      <td>-0.5000</td>\n",
       "      <td>0.0091</td>\n",
       "      <td>0.455</td>\n",
       "      <td>1</td>\n",
       "      <td>0.652802</td>\n",
       "    </tr>\n",
       "    <tr>\n",
       "      <th>1</th>\n",
       "      <td>48</td>\n",
       "      <td>24</td>\n",
       "      <td>-1.73</td>\n",
       "      <td>-2.36</td>\n",
       "      <td>-0.4582</td>\n",
       "      <td>-0.4909</td>\n",
       "      <td>0.0327</td>\n",
       "      <td>1.635</td>\n",
       "      <td>2</td>\n",
       "      <td>0.081483</td>\n",
       "    </tr>\n",
       "    <tr>\n",
       "      <th>2</th>\n",
       "      <td>72</td>\n",
       "      <td>48</td>\n",
       "      <td>-1.11</td>\n",
       "      <td>-1.73</td>\n",
       "      <td>-0.3665</td>\n",
       "      <td>-0.4582</td>\n",
       "      <td>0.0917</td>\n",
       "      <td>4.585</td>\n",
       "      <td>4</td>\n",
       "      <td>0.074640</td>\n",
       "    </tr>\n",
       "    <tr>\n",
       "      <th>3</th>\n",
       "      <td>96</td>\n",
       "      <td>72</td>\n",
       "      <td>-0.49</td>\n",
       "      <td>-1.11</td>\n",
       "      <td>-0.1879</td>\n",
       "      <td>-0.3665</td>\n",
       "      <td>0.1786</td>\n",
       "      <td>8.930</td>\n",
       "      <td>6</td>\n",
       "      <td>0.961355</td>\n",
       "    </tr>\n",
       "    <tr>\n",
       "      <th>4</th>\n",
       "      <td>120</td>\n",
       "      <td>96</td>\n",
       "      <td>0.14</td>\n",
       "      <td>-0.49</td>\n",
       "      <td>0.0557</td>\n",
       "      <td>-0.1879</td>\n",
       "      <td>0.2436</td>\n",
       "      <td>12.180</td>\n",
       "      <td>12</td>\n",
       "      <td>0.002660</td>\n",
       "    </tr>\n",
       "    <tr>\n",
       "      <th>5</th>\n",
       "      <td>144</td>\n",
       "      <td>120</td>\n",
       "      <td>0.76</td>\n",
       "      <td>0.14</td>\n",
       "      <td>0.2764</td>\n",
       "      <td>0.0557</td>\n",
       "      <td>0.2207</td>\n",
       "      <td>11.035</td>\n",
       "      <td>16</td>\n",
       "      <td>2.233913</td>\n",
       "    </tr>\n",
       "    <tr>\n",
       "      <th>6</th>\n",
       "      <td>168</td>\n",
       "      <td>144</td>\n",
       "      <td>1.38</td>\n",
       "      <td>0.76</td>\n",
       "      <td>0.4162</td>\n",
       "      <td>0.2764</td>\n",
       "      <td>0.1398</td>\n",
       "      <td>6.990</td>\n",
       "      <td>6</td>\n",
       "      <td>0.140215</td>\n",
       "    </tr>\n",
       "    <tr>\n",
       "      <th>7</th>\n",
       "      <td>192</td>\n",
       "      <td>168</td>\n",
       "      <td>2.01</td>\n",
       "      <td>1.38</td>\n",
       "      <td>0.4778</td>\n",
       "      <td>0.4162</td>\n",
       "      <td>0.0616</td>\n",
       "      <td>3.080</td>\n",
       "      <td>2</td>\n",
       "      <td>0.378701</td>\n",
       "    </tr>\n",
       "    <tr>\n",
       "      <th>8</th>\n",
       "      <td>216</td>\n",
       "      <td>192</td>\n",
       "      <td>NaN</td>\n",
       "      <td>2.01</td>\n",
       "      <td>0.5000</td>\n",
       "      <td>0.4778</td>\n",
       "      <td>0.0222</td>\n",
       "      <td>1.110</td>\n",
       "      <td>1</td>\n",
       "      <td>0.010901</td>\n",
       "    </tr>\n",
       "  </tbody>\n",
       "</table>\n",
       "</div>"
      ],
      "text/plain": [
       "     x  x_1   z_i  z_i_1    F_zi  F_zi_1     P_i     N_i   N     N_K_e\n",
       "0   24    0 -2.36    NaN -0.4909 -0.5000  0.0091   0.455   1  0.652802\n",
       "1   48   24 -1.73  -2.36 -0.4582 -0.4909  0.0327   1.635   2  0.081483\n",
       "2   72   48 -1.11  -1.73 -0.3665 -0.4582  0.0917   4.585   4  0.074640\n",
       "3   96   72 -0.49  -1.11 -0.1879 -0.3665  0.1786   8.930   6  0.961355\n",
       "4  120   96  0.14  -0.49  0.0557 -0.1879  0.2436  12.180  12  0.002660\n",
       "5  144  120  0.76   0.14  0.2764  0.0557  0.2207  11.035  16  2.233913\n",
       "6  168  144  1.38   0.76  0.4162  0.2764  0.1398   6.990   6  0.140215\n",
       "7  192  168  2.01   1.38  0.4778  0.4162  0.0616   3.080   2  0.378701\n",
       "8  216  192   NaN   2.01  0.5000  0.4778  0.0222   1.110   1  0.010901"
      ]
     },
     "execution_count": 237,
     "metadata": {},
     "output_type": "execute_result"
    }
   ],
   "source": [
    "df = pd.DataFrame(x, columns = [\"x\"])\n",
    "df[\"x_1\"] = [i - df[\"x\"][0] for i in df[\"x\"]]\n",
    "df[\"z_i\"] = [round((i-mean)/std, 2) if i != df.loc[8, \"x\"] else None  for i in df[\"x\"]]\n",
    "df[\"z_i_1\"] = [round((i-mean)/std, 2) if i != df.loc[0, \"x_1\"] else None for i in df[\"x_1\"]]\n",
    "df[\"F_zi\"] =[round(sp.stats.norm.cdf(df.loc[i, 'z_i']) - 0.5, 4) if i != 8  else 0.5 for i in range(len(df['z_i']))] \n",
    "df[\"F_zi_1\"] =[round(sp.stats.norm.cdf(df.loc[i, 'z_i_1']) - 0.5, 4) if i != 0  else -0.5 for i in range(len(df['z_i_1']))]\n",
    "df[\"P_i\"] = [df.loc[i, \"F_zi\"]-df.loc[i, \"F_zi_1\"] for i in range(len(df))]\n",
    "df[\"N_i\"] = [i*len(series) for i in df[\"P_i\"]]\n",
    "df[\"N\"] = [i for i in n]\n",
    "df[\"N_K_e\"] = [(df.loc[i, \"N\"]-df.loc[i, \"N_i\"])**2/df.loc[i, \"N_i\"] for i in range(len(df))]\n",
    "\n",
    "df"
   ]
  },
  {
   "cell_type": "markdown",
   "id": "703d1289",
   "metadata": {},
   "source": [
    "3.3. Знайдемо емпіричну область."
   ]
  },
  {
   "cell_type": "code",
   "execution_count": 238,
   "id": "3dba0111",
   "metadata": {},
   "outputs": [
    {
     "name": "stdout",
     "output_type": "stream",
     "text": [
      "Емпірична область =  4.54\n"
     ]
    }
   ],
   "source": [
    "K_e = df[\"N_K_e\"].sum()\n",
    "print(\"Емпірична область = \", round(K_e, 2))"
   ]
  },
  {
   "cell_type": "markdown",
   "id": "84b57eef",
   "metadata": {},
   "source": [
    "3.4. Знайдемо критичну область.\n",
    "\n",
    "З таблиці критичних точок розподілу, при заданому рівні зачущості $\\alpha = 0,01$ і кількості ступенів свободи $ r = m - s - 1 = 9 - 2 - 1 = 6$ знайдемо критичну область $K_kp = 16,8$"
   ]
  },
  {
   "cell_type": "code",
   "execution_count": 241,
   "id": "aedb133a",
   "metadata": {},
   "outputs": [
    {
     "name": "stdout",
     "output_type": "stream",
     "text": [
      "За критерієм узгодженності Пірсона, нульову гіпотезу для даної вибірки підтверджено\n"
     ]
    }
   ],
   "source": [
    "K_kp = 16.8\n",
    "if K_kp > K_e:\n",
    "    print(\"За критерієм узгодженності Пірсона, нульову гіпотезу для даної вибірки підтверджено\")\n",
    "else:\n",
    "    print(\"За критерієм узгодженності Пірсона, нульову гіпотезу не підтверджено\")"
   ]
  }
 ],
 "metadata": {
  "kernelspec": {
   "display_name": "Python 3 (ipykernel)",
   "language": "python",
   "name": "python3"
  },
  "language_info": {
   "codemirror_mode": {
    "name": "ipython",
    "version": 3
   },
   "file_extension": ".py",
   "mimetype": "text/x-python",
   "name": "python",
   "nbconvert_exporter": "python",
   "pygments_lexer": "ipython3",
   "version": "3.10.7"
  }
 },
 "nbformat": 4,
 "nbformat_minor": 5
}
