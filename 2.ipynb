{
 "cells": [
  {
   "cell_type": "markdown",
   "id": "01969785",
   "metadata": {},
   "source": [
    "**Умова:**\n",
    "\n",
    "Випадкова величина $X$ розподілена рівномірно. Знайти щільність її розподілу, якщо $P(X \\geqslant 3)0,4$ а математичне сподівання рівне $M(X) = 2$"
   ]
  },
  {
   "cell_type": "markdown",
   "id": "e86da9a5",
   "metadata": {},
   "source": [
    "**Розв'язок:**"
   ]
  },
  {
   "cell_type": "markdown",
   "id": "5d1f7e0f",
   "metadata": {},
   "source": [
    "Щільність розподілу визначається за формулою:\n",
    "\n",
    "$$f(x) =\\cases{0, x \\leq a \\\\\\frac{1}{b−a},  a < x\\leq b\\\\0, x > b}  ,звідки $$\n",
    "\n",
    "                                       \n",
    "\n",
    "$$P(c < X < d) = \\int_c^d\\frac{1}{b - a} ∙ {dx}= \\frac{d-c}{b-a} = 0,4$$\n",
    "\n",
    "Оскільки $c = 3$, а $d = b$, маємо:\n",
    "\n",
    "$$\\frac{b-3}{b-a} = 0,4$$"
   ]
  },
  {
   "cell_type": "markdown",
   "id": "f7173220",
   "metadata": {},
   "source": [
    "Математичне сподівання  визначається за формулою:\n",
    "    \n",
    "$$M(X) = \\frac{a + b}{2} = 2$$    "
   ]
  },
  {
   "cell_type": "markdown",
   "id": "7ba82541",
   "metadata": {},
   "source": [
    "Складемо систему рівнянь:\n",
    "\n",
    "$$\\cases{\\frac{b-3}{b-a} = 0,4;  \\\\ \\frac{a+b}{2} = 2;}$$\n"
   ]
  },
  {
   "cell_type": "markdown",
   "id": "1d72c8df",
   "metadata": {},
   "source": [
    "$$\\cases{{b-3} = 0,4b - 0,4a;  \\\\ a+b = 4;}$$"
   ]
  },
  {
   "cell_type": "markdown",
   "id": "c8b500ed",
   "metadata": {},
   "source": [
    "$$\\cases{0,6b + 0,4a = 3;  \\\\ a = 4 - b;}$$"
   ]
  },
  {
   "cell_type": "markdown",
   "id": "22cbae64",
   "metadata": {},
   "source": [
    "$$\\cases{a = -3;  \\\\ b = 7;}$$"
   ]
  },
  {
   "cell_type": "markdown",
   "id": "61e1c48b",
   "metadata": {},
   "source": [
    "Звідки щільність розподілу даної рівномірної величини має вигляд:\n",
    "\n",
    "$$f(x) = \\cases{0, x \\leq - 3;  \\\\ 0,1, - 3 < x \\leq 7; \\\\ 0, x > 7}$$\n",
    "\n",
    "що означає, що випдкова величина $X$ у даному інтервалі від -3 до 7 має значення 0,1. За межами даного інтервалу $X = 0$"
   ]
  }
 ],
 "metadata": {
  "kernelspec": {
   "display_name": "Python 3 (ipykernel)",
   "language": "python",
   "name": "python3"
  },
  "language_info": {
   "codemirror_mode": {
    "name": "ipython",
    "version": 3
   },
   "file_extension": ".py",
   "mimetype": "text/x-python",
   "name": "python",
   "nbconvert_exporter": "python",
   "pygments_lexer": "ipython3",
   "version": "3.9.7"
  }
 },
 "nbformat": 4,
 "nbformat_minor": 5
}
